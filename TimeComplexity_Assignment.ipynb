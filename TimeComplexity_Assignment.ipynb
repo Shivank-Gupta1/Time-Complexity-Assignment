{
 "cells": [
  {
   "cell_type": "raw",
   "id": "431e47f8-aed0-4924-9520-ca842d174087",
   "metadata": {},
   "source": [
    "Problem 1.\n",
    "def quicksort(arr):\n",
    "if len(arr) <= 1:\n",
    "return arr\n",
    "pivot = arr[len(arr) // 2]\n",
    "left = [x for x in arr if x < pivot]\n",
    "middle = [x for x in arr if x == pivot]\n",
    "right = [x for x in arr if x > pivot]\n",
    "return quicksort(left) + middle + quicksort(right)"
   ]
  },
  {
   "cell_type": "raw",
   "id": "34574874-e2c1-415d-ae5b-9cd71d504eaf",
   "metadata": {},
   "source": [
    "Time Complexity - O(n)"
   ]
  },
  {
   "cell_type": "raw",
   "id": "df844633-abe7-44fd-8370-e2a575f4dfa3",
   "metadata": {},
   "source": [
    "Problem 2 :\n",
    "def nested_loop_example(matrix):\n",
    "rows, cols = len(matrix), len(matrix[0])\n",
    "total = 0\n",
    "for i in range(rows):\n",
    "    for j in range(cols):\n",
    "        total += matrix[i][j]\n",
    "    return total"
   ]
  },
  {
   "cell_type": "raw",
   "id": "e67e2b98-30e2-4b11-b237-a7944028a9c4",
   "metadata": {},
   "source": [
    "Time Complexity - O(n^2)"
   ]
  },
  {
   "cell_type": "code",
   "execution_count": null,
   "id": "633fc57d-4e51-48f1-8006-0d51c50532b7",
   "metadata": {},
   "outputs": [],
   "source": []
  },
  {
   "cell_type": "raw",
   "id": "485e9b52-090c-4dde-8ace-bb565611df51",
   "metadata": {},
   "source": [
    "Problem 3 :\n",
    "def example_function(arr):\n",
    "    result = 0\n",
    "    for element in arr:\n",
    "        result += element\n",
    "    return result"
   ]
  },
  {
   "cell_type": "raw",
   "id": "ab495df5-c4ef-4567-8a5a-a1a51dac4c59",
   "metadata": {},
   "source": [
    "Time Complexity - O(n)"
   ]
  },
  {
   "cell_type": "code",
   "execution_count": null,
   "id": "a55215ed-c56e-4866-b7f6-1bd482d85096",
   "metadata": {},
   "outputs": [],
   "source": []
  },
  {
   "cell_type": "raw",
   "id": "8955f68a-fa58-40d6-baef-237e64596800",
   "metadata": {},
   "source": [
    "Problem 4 :\n",
    "def longest_increasing_subsequence(nums):\n",
    "    n = len(nums)\n",
    "    lis = [1] * n\n",
    "    for i in range(1, n):\n",
    "        for j in range(0, i):\n",
    "            if nums[i] > nums[j] and lis[i] < lis[j] + 1:\n",
    "                lis[i] = lis[j] + 1\n",
    "        return max(lis)"
   ]
  },
  {
   "cell_type": "raw",
   "id": "b9ca4259-c665-4104-8f34-f5570365c23a",
   "metadata": {},
   "source": [
    "Time Complexity - O(n^2)"
   ]
  },
  {
   "cell_type": "code",
   "execution_count": null,
   "id": "097529d5-9d71-4c19-9cc3-eb37932ca175",
   "metadata": {},
   "outputs": [],
   "source": []
  },
  {
   "cell_type": "raw",
   "id": "ba535acc-619e-4145-a922-a8afa9a7dc56",
   "metadata": {},
   "source": [
    "Problem 5 :\n",
    "def mysterious_function(arr):\n",
    "    n = len(arr)\n",
    "    result = 0\n",
    "    for i in range(n):\n",
    "        for j in range(i, n):\n",
    "            result += arr[i] * arr[j]\n",
    "        return result"
   ]
  },
  {
   "cell_type": "raw",
   "id": "2a4c0c58-d2e7-4ca7-9205-c106d042179a",
   "metadata": {},
   "source": [
    "Time Comlexity - O(n^2)"
   ]
  },
  {
   "cell_type": "code",
   "execution_count": null,
   "id": "950db052-19c0-4149-86d3-08f0a6716a06",
   "metadata": {},
   "outputs": [],
   "source": []
  },
  {
   "cell_type": "code",
   "execution_count": 8,
   "id": "d47e4a83-6268-4c18-87d4-d07fb6ffe452",
   "metadata": {},
   "outputs": [],
   "source": [
    "##6.Write a recursive function to calculate the sum of digits of a given positive integer."
   ]
  },
  {
   "cell_type": "code",
   "execution_count": 14,
   "id": "a318dba9-aece-4969-a9c7-22e57714bb8c",
   "metadata": {},
   "outputs": [],
   "source": [
    "def recur_sum(n):\n",
    "    if n in range(1,9):\n",
    "        return n\n",
    "    else:\n",
    "        return (n%10 + recur_sum(n//10))"
   ]
  },
  {
   "cell_type": "code",
   "execution_count": 17,
   "id": "31ed8ded-ee35-4d43-9afc-e9f53283d4c4",
   "metadata": {},
   "outputs": [],
   "source": [
    "x=recur_sum(456)"
   ]
  },
  {
   "cell_type": "code",
   "execution_count": 18,
   "id": "87c4a9f1-2b2b-45b5-95f1-5baddae3d428",
   "metadata": {},
   "outputs": [
    {
     "data": {
      "text/plain": [
       "15"
      ]
     },
     "execution_count": 18,
     "metadata": {},
     "output_type": "execute_result"
    }
   ],
   "source": [
    "x"
   ]
  },
  {
   "cell_type": "code",
   "execution_count": null,
   "id": "e77eb5e1-4c05-409b-b9eb-0fc31ff81a2f",
   "metadata": {},
   "outputs": [],
   "source": []
  },
  {
   "cell_type": "code",
   "execution_count": 19,
   "id": "bd949a05-c8e7-404e-b226-5f85dc10592d",
   "metadata": {},
   "outputs": [],
   "source": [
    "##7.Write a recursive function to generate the first n numbers of the Fibonacci series."
   ]
  },
  {
   "cell_type": "code",
   "execution_count": 21,
   "id": "ff948b40-deec-4d37-b73c-5500b26a0172",
   "metadata": {},
   "outputs": [
    {
     "name": "stdout",
     "output_type": "stream",
     "text": [
      "[0, 1, 1, 2, 3, 5, 8, 13, 21, 34]\n"
     ]
    }
   ],
   "source": [
    "def fibo_recur(n):\n",
    "\n",
    "    def fib(n):\n",
    "        if n <= 1:\n",
    "            return n\n",
    "        return fib(n - 1) + fib(n - 2)\n",
    "    \n",
    "    result = []\n",
    "    for i in range(n):\n",
    "        result.append(fib(i))\n",
    "    \n",
    "    return result\n",
    "\n",
    "n = 10\n",
    "print(fibo_recur(n))"
   ]
  },
  {
   "cell_type": "code",
   "execution_count": null,
   "id": "ebb17b94-6c4a-4115-89f3-0ed8bbd312f6",
   "metadata": {},
   "outputs": [],
   "source": []
  },
  {
   "cell_type": "code",
   "execution_count": 22,
   "id": "eb17ddc0-4e8a-4a3b-ba03-4d2c6eb71d5c",
   "metadata": {},
   "outputs": [],
   "source": [
    "##8.Given a set of positive integers and a target sum, write a recursive function to determine if there exists a subset of the integers that adds up to the target sum."
   ]
  },
  {
   "cell_type": "code",
   "execution_count": 24,
   "id": "bb5c59c5-6972-45eb-8153-0a296957b9cb",
   "metadata": {},
   "outputs": [
    {
     "name": "stdout",
     "output_type": "stream",
     "text": [
      "True\n"
     ]
    }
   ],
   "source": [
    "def is_subset_sum(arr, n, target_sum):\n",
    " \n",
    "    if target_sum == 0:\n",
    "        return True\n",
    "    if n == 0:\n",
    "        return False\n",
    "    \n",
    "    if arr[n - 1] > target_sum:\n",
    "        return is_subset_sum(arr, n - 1, target_sum)\n",
    "    \n",
    "    return (is_subset_sum(arr, n - 1, target_sum) or \n",
    "            is_subset_sum(arr, n - 1, target_sum - arr[n - 1]))\n",
    "\n",
    "\n",
    "arr = [3, 34, 4, 12, 5, 2]\n",
    "target_sum = 9\n",
    "print(is_subset_sum(arr, len(arr), target_sum))"
   ]
  },
  {
   "cell_type": "code",
   "execution_count": null,
   "id": "1a9cdbe7-5dbe-4c7a-a883-83b4caaec61c",
   "metadata": {},
   "outputs": [],
   "source": []
  },
  {
   "cell_type": "code",
   "execution_count": 25,
   "id": "745d49c1-887f-4e9c-8fa4-e3a7c284443b",
   "metadata": {},
   "outputs": [],
   "source": [
    "##9.Given a non-empty string and a dictionary of words, write a recursive function to determine if the string can be segmented into a space-separated sequence of dictionary words."
   ]
  },
  {
   "cell_type": "code",
   "execution_count": 38,
   "id": "c6a876b5-ef7c-458a-afc0-003e9ac641ea",
   "metadata": {},
   "outputs": [],
   "source": [
    "def word_break_recur(s, word_dict):\n",
    "    if not s:\n",
    "        return True\n",
    "    \n",
    "    for i in range(1, len(s) + 1):\n",
    "        if s[:i] in word_dict:\n",
    "            if word_break_recur(s[i:], word_dict):\n",
    "                return True\n",
    "    return False"
   ]
  },
  {
   "cell_type": "code",
   "execution_count": 43,
   "id": "450a8ab2-78eb-4a65-8db3-e1d97c7b210d",
   "metadata": {},
   "outputs": [],
   "source": [
    "s='shivank'\n",
    "word_dict={'shiv','ank'}"
   ]
  },
  {
   "cell_type": "code",
   "execution_count": 44,
   "id": "ffb382a4-3cf4-4f52-a659-33272fb5a709",
   "metadata": {},
   "outputs": [
    {
     "data": {
      "text/plain": [
       "True"
      ]
     },
     "execution_count": 44,
     "metadata": {},
     "output_type": "execute_result"
    }
   ],
   "source": [
    "word_break_recur(s,word_dict)"
   ]
  },
  {
   "cell_type": "code",
   "execution_count": null,
   "id": "b85f3a31-c3ef-40d9-88bf-6a0cd05c2af1",
   "metadata": {},
   "outputs": [],
   "source": []
  },
  {
   "cell_type": "code",
   "execution_count": null,
   "id": "70c276ac-63f5-4625-aced-82c88cb72a5c",
   "metadata": {},
   "outputs": [],
   "source": [
    "##10."
   ]
  },
  {
   "cell_type": "code",
   "execution_count": 45,
   "id": "ae726df3-ab02-4093-8725-235759d58708",
   "metadata": {},
   "outputs": [
    {
     "name": "stdout",
     "output_type": "stream",
     "text": [
      ". . Q .\n",
      "Q . . .\n",
      ". . . Q\n",
      ". Q . .\n",
      "\n"
     ]
    }
   ],
   "source": [
    "def solve_n_queens(n):\n",
    "    def is_safe(board, row, col):\n",
    "        for i in range(col):\n",
    "            if board[row][i] == 1:\n",
    "                return False    \n",
    "        for i, j in zip(range(row, -1, -1), range(col, -1, -1)):\n",
    "            if board[i][j] == 1:\n",
    "                return False\n",
    "        for i, j in zip(range(row, n, 1), range(col, -1, -1)):\n",
    "            if board[i][j] == 1:\n",
    "                return False\n",
    "        \n",
    "        return True\n",
    "    \n",
    "    def solve(board, col):\n",
    "        if col >= n:\n",
    "            return True\n",
    "        \n",
    "        for i in range(n):\n",
    "            if is_safe(board, i, col):\n",
    "                board[i][col] = 1\n",
    "                if solve(board, col + 1):\n",
    "                    return True\n",
    "                board[i][col] = 0\n",
    "        \n",
    "        return False\n",
    "    \n",
    "    def print_solution(board):\n",
    "        for row in board:\n",
    "            print(' '.join(['Q' if x == 1 else '.' for x in row]))\n",
    "        print()\n",
    "    \n",
    "    board = [[0 for _ in range(n)] for _ in range(n)]\n",
    "    \n",
    "    if solve(board, 0):\n",
    "        print_solution(board)\n",
    "    else:\n",
    "        print(\"No solution exists\")\n",
    "\n",
    "n = 4\n",
    "solve_n_queens(n)"
   ]
  },
  {
   "cell_type": "code",
   "execution_count": null,
   "id": "0219f118-0a17-4566-9cef-b2d1380b530d",
   "metadata": {},
   "outputs": [],
   "source": []
  }
 ],
 "metadata": {
  "kernelspec": {
   "display_name": "Python 3 (ipykernel)",
   "language": "python",
   "name": "python3"
  },
  "language_info": {
   "codemirror_mode": {
    "name": "ipython",
    "version": 3
   },
   "file_extension": ".py",
   "mimetype": "text/x-python",
   "name": "python",
   "nbconvert_exporter": "python",
   "pygments_lexer": "ipython3",
   "version": "3.10.8"
  }
 },
 "nbformat": 4,
 "nbformat_minor": 5
}
